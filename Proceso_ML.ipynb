{
 "cells": [
  {
   "cell_type": "markdown",
   "metadata": {},
   "source": [
    "PROCESO ML"
   ]
  },
  {
   "cell_type": "markdown",
   "metadata": {},
   "source": [
    "#### Bibliotecas"
   ]
  },
  {
   "cell_type": "code",
   "execution_count": 3,
   "metadata": {},
   "outputs": [],
   "source": [
    "import bootcampviztools as bt\n",
    "import numpy as np\n",
    "import pandas as pd\n",
    "import matplotlib.pyplot as plt\n",
    "import modulo_toolbox as mtb\n",
    "import seaborn as sns\n",
    "import toolbox_ML as tb\n",
    "import warnings\n",
    "\n",
    "warnings.filterwarnings('ignore')"
   ]
  },
  {
   "cell_type": "markdown",
   "metadata": {},
   "source": [
    "#### Cargar dataset y primeras visualizaciones"
   ]
  },
  {
   "cell_type": "code",
   "execution_count": null,
   "metadata": {},
   "outputs": [],
   "source": [
    "# Data crude suicide rates\n",
    "df_suicide = pd.read_csv('./data/crude suicide rates.csv')"
   ]
  },
  {
   "cell_type": "code",
   "execution_count": null,
   "metadata": {},
   "outputs": [
    {
     "name": "stdout",
     "output_type": "stream",
     "text": [
      "<class 'pandas.core.frame.DataFrame'>\n",
      "RangeIndex: 916 entries, 0 to 915\n",
      "Data columns (total 8 columns):\n",
      " #   Column                                                                                                                                           Non-Null Count  Dtype \n",
      "---  ------                                                                                                                                           --------------  ----- \n",
      " 0   Unnamed: 0                                                                                                                                       916 non-null    object\n",
      " 1   Unnamed: 1                                                                                                                                       916 non-null    object\n",
      " 2   Probability (%) of dying between age 30 and exact age 70 from any of cardiovascular disease, cancer, diabetes, or chronic respiratory disease    916 non-null    object\n",
      " 3   Probability (%) of dying between age 30 and exact age 70 from any of cardiovascular disease, cancer, diabetes, or chronic respiratory disease.1  916 non-null    object\n",
      " 4   Probability (%) of dying between age 30 and exact age 70 from any of cardiovascular disease, cancer, diabetes, or chronic respiratory disease.2  916 non-null    object\n",
      " 5   Crude suicide rates (per 100 000 population)                                                                                                     916 non-null    object\n",
      " 6   Crude suicide rates (per 100 000 population).1                                                                                                   916 non-null    object\n",
      " 7   Crude suicide rates (per 100 000 population).2                                                                                                   916 non-null    object\n",
      "dtypes: object(8)\n",
      "memory usage: 57.4+ KB\n"
     ]
    }
   ],
   "source": [
    "df_suicide.info()"
   ]
  },
  {
   "cell_type": "code",
   "execution_count": null,
   "metadata": {},
   "outputs": [
    {
     "data": {
      "text/html": [
       "<div>\n",
       "<style scoped>\n",
       "    .dataframe tbody tr th:only-of-type {\n",
       "        vertical-align: middle;\n",
       "    }\n",
       "\n",
       "    .dataframe tbody tr th {\n",
       "        vertical-align: top;\n",
       "    }\n",
       "\n",
       "    .dataframe thead th {\n",
       "        text-align: right;\n",
       "    }\n",
       "</style>\n",
       "<table border=\"1\" class=\"dataframe\">\n",
       "  <thead>\n",
       "    <tr style=\"text-align: right;\">\n",
       "      <th></th>\n",
       "      <th>Unnamed: 0</th>\n",
       "      <th>Unnamed: 1</th>\n",
       "      <th>Probability (%) of dying between age 30 and exact age 70 from any of cardiovascular disease, cancer, diabetes, or chronic respiratory disease</th>\n",
       "      <th>Probability (%) of dying between age 30 and exact age 70 from any of cardiovascular disease, cancer, diabetes, or chronic respiratory disease.1</th>\n",
       "      <th>Probability (%) of dying between age 30 and exact age 70 from any of cardiovascular disease, cancer, diabetes, or chronic respiratory disease.2</th>\n",
       "      <th>Crude suicide rates (per 100 000 population)</th>\n",
       "      <th>Crude suicide rates (per 100 000 population).1</th>\n",
       "      <th>Crude suicide rates (per 100 000 population).2</th>\n",
       "    </tr>\n",
       "  </thead>\n",
       "  <tbody>\n",
       "    <tr>\n",
       "      <th>0</th>\n",
       "      <td>Country</td>\n",
       "      <td>Year</td>\n",
       "      <td>Both sexes</td>\n",
       "      <td>Male</td>\n",
       "      <td>Female</td>\n",
       "      <td>Both sexes</td>\n",
       "      <td>Male</td>\n",
       "      <td>Female</td>\n",
       "    </tr>\n",
       "    <tr>\n",
       "      <th>1</th>\n",
       "      <td>Afghanistan</td>\n",
       "      <td>2016</td>\n",
       "      <td>29.8</td>\n",
       "      <td>31.8</td>\n",
       "      <td>27.7</td>\n",
       "      <td>4.7</td>\n",
       "      <td>7.6</td>\n",
       "      <td>1.5</td>\n",
       "    </tr>\n",
       "    <tr>\n",
       "      <th>2</th>\n",
       "      <td>Afghanistan</td>\n",
       "      <td>2015</td>\n",
       "      <td>29.8</td>\n",
       "      <td>31.9</td>\n",
       "      <td>27.8</td>\n",
       "      <td>4.8</td>\n",
       "      <td>7.8</td>\n",
       "      <td>1.5</td>\n",
       "    </tr>\n",
       "    <tr>\n",
       "      <th>3</th>\n",
       "      <td>Afghanistan</td>\n",
       "      <td>2010</td>\n",
       "      <td>31.7</td>\n",
       "      <td>34.1</td>\n",
       "      <td>29.4</td>\n",
       "      <td>5.1</td>\n",
       "      <td>8.6</td>\n",
       "      <td>1.4</td>\n",
       "    </tr>\n",
       "    <tr>\n",
       "      <th>4</th>\n",
       "      <td>Afghanistan</td>\n",
       "      <td>2005</td>\n",
       "      <td>34.1</td>\n",
       "      <td>36.5</td>\n",
       "      <td>31.6</td>\n",
       "      <td>6.3</td>\n",
       "      <td>10.8</td>\n",
       "      <td>1.5</td>\n",
       "    </tr>\n",
       "  </tbody>\n",
       "</table>\n",
       "</div>"
      ],
      "text/plain": [
       "    Unnamed: 0 Unnamed: 1  \\\n",
       "0      Country       Year   \n",
       "1  Afghanistan       2016   \n",
       "2  Afghanistan       2015   \n",
       "3  Afghanistan       2010   \n",
       "4  Afghanistan       2005   \n",
       "\n",
       "  Probability (%) of dying between age 30 and exact age 70 from any of cardiovascular disease, cancer, diabetes, or chronic respiratory disease  \\\n",
       "0                                         Both sexes                                                                                              \n",
       "1                                               29.8                                                                                              \n",
       "2                                               29.8                                                                                              \n",
       "3                                               31.7                                                                                              \n",
       "4                                               34.1                                                                                              \n",
       "\n",
       "  Probability (%) of dying between age 30 and exact age 70 from any of cardiovascular disease, cancer, diabetes, or chronic respiratory disease.1  \\\n",
       "0                                               Male                                                                                                \n",
       "1                                               31.8                                                                                                \n",
       "2                                               31.9                                                                                                \n",
       "3                                               34.1                                                                                                \n",
       "4                                               36.5                                                                                                \n",
       "\n",
       "  Probability (%) of dying between age 30 and exact age 70 from any of cardiovascular disease, cancer, diabetes, or chronic respiratory disease.2  \\\n",
       "0                                             Female                                                                                                \n",
       "1                                               27.7                                                                                                \n",
       "2                                               27.8                                                                                                \n",
       "3                                               29.4                                                                                                \n",
       "4                                               31.6                                                                                                \n",
       "\n",
       "  Crude suicide rates (per 100 000 population)  \\\n",
       "0                                   Both sexes   \n",
       "1                                          4.7   \n",
       "2                                          4.8   \n",
       "3                                          5.1   \n",
       "4                                          6.3   \n",
       "\n",
       "  Crude suicide rates (per 100 000 population).1  \\\n",
       "0                                           Male   \n",
       "1                                            7.6   \n",
       "2                                            7.8   \n",
       "3                                            8.6   \n",
       "4                                           10.8   \n",
       "\n",
       "  Crude suicide rates (per 100 000 population).2  \n",
       "0                                         Female  \n",
       "1                                            1.5  \n",
       "2                                            1.5  \n",
       "3                                            1.4  \n",
       "4                                            1.5  "
      ]
     },
     "execution_count": 6,
     "metadata": {},
     "output_type": "execute_result"
    }
   ],
   "source": [
    "df_suicide.head()"
   ]
  },
  {
   "cell_type": "code",
   "execution_count": null,
   "metadata": {},
   "outputs": [],
   "source": []
  }
 ],
 "metadata": {
  "kernelspec": {
   "display_name": "base",
   "language": "python",
   "name": "python3"
  },
  "language_info": {
   "codemirror_mode": {
    "name": "ipython",
    "version": 3
   },
   "file_extension": ".py",
   "mimetype": "text/x-python",
   "name": "python",
   "nbconvert_exporter": "python",
   "pygments_lexer": "ipython3",
   "version": "3.11.5"
  }
 },
 "nbformat": 4,
 "nbformat_minor": 2
}
