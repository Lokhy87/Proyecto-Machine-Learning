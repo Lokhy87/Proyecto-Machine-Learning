{
 "cells": [
  {
   "cell_type": "markdown",
   "metadata": {},
   "source": [
    "PROCESO ML"
   ]
  },
  {
   "cell_type": "markdown",
   "metadata": {},
   "source": [
    "#### Bibliotecas"
   ]
  },
  {
   "cell_type": "code",
   "execution_count": 1,
   "metadata": {},
   "outputs": [],
   "source": [
    "import bootcampviztools as bt\n",
    "import hashlib\n",
    "import numpy as np\n",
    "import pandas as pd\n",
    "import matplotlib.pyplot as plt\n",
    "import modulo_toolbox as mtb\n",
    "import requests\n",
    "import seaborn as sns\n",
    "import time\n",
    "import toolbox_ML as tb\n",
    "import warnings\n",
    "\n",
    "warnings.filterwarnings('ignore')"
   ]
  },
  {
   "cell_type": "markdown",
   "metadata": {},
   "source": [
    "# API MARVEL"
   ]
  },
  {
   "cell_type": "code",
   "execution_count": 2,
   "metadata": {},
   "outputs": [],
   "source": [
    "# Claves de la API\n",
    "public_key = '0399714820d7f8388e74266a3c94cb4a'\n",
    "private_key = '7fe33c6de400b6bafdd3ba7f8b3158681c092aed'"
   ]
  },
  {
   "cell_type": "code",
   "execution_count": 8,
   "metadata": {},
   "outputs": [],
   "source": [
    "# Parametros de autenticacion\n",
    "def get_hash_params(public_key, private_key):\n",
    "    ts = str(time.time()) \n",
    "    hash_string = ts + private_key+ public_key \n",
    "    hash_result = hashlib.md5(hash_string.encode()).hexdigest()\n",
    "    return {\n",
    "        'ts':ts,\n",
    "        'apikey': public_key,\n",
    "        'hash': hash_result,\n",
    "    }"
   ]
  },
  {
   "cell_type": "code",
   "execution_count": 5,
   "metadata": {},
   "outputs": [],
   "source": [
    "# Funcion obtener todos los personajes\n",
    "def fetch_all_characeters():\n",
    "        base_url = 'http://gateway.marvel.com/v1/public/characters'\n",
    "        all_character =[]\n",
    "        limitt = 100\n",
    "        offset = 0\n",
    "\n",
    "        while True:\n",
    "                params = get_hash_params(public_key, private_key)\n",
    "                params.update({\n",
    "                        'limit': limit,\n",
    "                        'offset': offset\n",
    "                })"
   ]
  },
  {
   "cell_type": "code",
   "execution_count": 6,
   "metadata": {},
   "outputs": [],
   "source": [
    "# Solicitud\n",
    "response = requests.get(base_url, params = params)\n",
    "data = response.json()"
   ]
  },
  {
   "cell_type": "code",
   "execution_count": 7,
   "metadata": {},
   "outputs": [
    {
     "data": {
      "text/plain": [
       "{'code': 200,\n",
       " 'status': 'Ok',\n",
       " 'copyright': '© 2024 MARVEL',\n",
       " 'attributionText': 'Data provided by Marvel. © 2024 MARVEL',\n",
       " 'attributionHTML': '<a href=\"http://marvel.com\">Data provided by Marvel. © 2024 MARVEL</a>',\n",
       " 'etag': '79ef3436d0dc139b17693635b99776556e29f495',\n",
       " 'data': {'offset': 0, 'limit': 20, 'total': 0, 'count': 0, 'results': []}}"
      ]
     },
     "execution_count": 7,
     "metadata": {},
     "output_type": "execute_result"
    }
   ],
   "source": [
    "data"
   ]
  },
  {
   "cell_type": "code",
   "execution_count": 2,
   "metadata": {},
   "outputs": [
    {
     "name": "stdout",
     "output_type": "stream",
     "text": [
      "Character: Iron Man\n",
      "Power Level: 100\n",
      "Strength: 80\n",
      "Agility: 75\n",
      "Durability: 85\n",
      "Energy: 90\n",
      "Intelligence: 95\n",
      "Fighting Skill: 90\n",
      "\n"
     ]
    }
   ],
   "source": [
    "class Character:\n",
    "    def __init__(self, name, power_level, strength, agility, durability, energy, intelligence, fighting_skill):\n",
    "        self.name = name\n",
    "        self.power_level = power_level\n",
    "        self.strength = strength\n",
    "        self.agility = agility\n",
    "        self.durability = durability\n",
    "        self.energy = energy\n",
    "        self.intelligence = intelligence\n",
    "        self.fighting_skill = fighting_skill\n",
    "\n",
    "    def __str__(self):\n",
    "        return f\"Character: {self.name}\\n\" \\\n",
    "               f\"Power Level: {self.power_level}\\n\" \\\n",
    "               f\"Strength: {self.strength}\\n\" \\\n",
    "               f\"Agility: {self.agility}\\n\" \\\n",
    "               f\"Durability: {self.durability}\\n\" \\\n",
    "               f\"Energy: {self.energy}\\n\" \\\n",
    "               f\"Intelligence: {self.intelligence}\\n\" \\\n",
    "               f\"Fighting Skill: {self.fighting_skill}\\n\"\n",
    "\n",
    "# Example usage\n",
    "iron_man = Character(\"Iron Man\", 100, 80, 75, 85, 90, 95, 90)\n",
    "print(iron_man)\n"
   ]
  }
 ],
 "metadata": {
  "kernelspec": {
   "display_name": "base",
   "language": "python",
   "name": "python3"
  },
  "language_info": {
   "codemirror_mode": {
    "name": "ipython",
    "version": 3
   },
   "file_extension": ".py",
   "mimetype": "text/x-python",
   "name": "python",
   "nbconvert_exporter": "python",
   "pygments_lexer": "ipython3",
   "version": "3.11.5"
  }
 },
 "nbformat": 4,
 "nbformat_minor": 2
}
