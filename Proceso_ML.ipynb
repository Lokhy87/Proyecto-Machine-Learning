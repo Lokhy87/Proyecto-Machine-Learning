{
 "cells": [
  {
   "cell_type": "markdown",
   "metadata": {},
   "source": [
    "PROCESO ML"
   ]
  },
  {
   "cell_type": "markdown",
   "metadata": {},
   "source": [
    "#### Bibliotecas"
   ]
  },
  {
   "cell_type": "code",
   "execution_count": 1,
   "metadata": {},
   "outputs": [],
   "source": [
    "import bootcampviztools as bt\n",
    "import hashlib\n",
    "import numpy as np\n",
    "import pandas as pd\n",
    "import matplotlib.pyplot as plt\n",
    "import modulo_toolbox as mtb\n",
    "import requests\n",
    "import seaborn as sns\n",
    "import time\n",
    "import toolbox_ML as tb\n",
    "import warnings\n",
    "\n",
    "warnings.filterwarnings('ignore')"
   ]
  },
  {
   "cell_type": "markdown",
   "metadata": {},
   "source": [
    "# API MARVEL"
   ]
  },
  {
   "cell_type": "code",
   "execution_count": 2,
   "metadata": {},
   "outputs": [],
   "source": [
    "# Claves de la API\n",
    "public_key = '0399714820d7f8388e74266a3c94cb4a'\n",
    "private_key = '7fe33c6de400b6bafdd3ba7f8b3158681c092aed'"
   ]
  },
  {
   "cell_type": "code",
   "execution_count": 4,
   "metadata": {},
   "outputs": [],
   "source": [
    "# Parametros de autenticacion\n",
    "def get_hash_params(public_key, private_key):\n",
    "    ts = str(time.time()) \n",
    "    hash_string = ts + private_key+ public_key \n",
    "    hash_result = hashlib.md5(hash_string.encode()).hexdigest()\n",
    "    return {\n",
    "        'ts':ts,\n",
    "        'apikey': public_key,\n",
    "        'hash': hash_result,\n",
    "    }"
   ]
  },
  {
   "cell_type": "code",
   "execution_count": 5,
   "metadata": {},
   "outputs": [],
   "source": [
    "# Funcion obtener todos los personajes\n",
    "def fetch_all_characters():\n",
    "        base_url = 'http://gateway.marvel.com/v1/public/characters'\n",
    "        all_characters = []\n",
    "        limit = 100\n",
    "        offset = 0\n",
    "\n",
    "        while True:\n",
    "                params = get_hash_params(public_key, private_key)\n",
    "                params.update({\n",
    "                        'limit': limit,\n",
    "                        'offset': offset\n",
    "                })\n",
    "\n",
    "                response = requests.get(base_url, params = params)\n",
    "\n",
    "                if response.status_code != 200:\n",
    "                        print(f'Error: {response.status_code}')\n",
    "                        break\n",
    "                \n",
    "                data = response.json()\n",
    "                characters = data['data']['results']\n",
    "\n",
    "                if not characters:\n",
    "                        break\n",
    "\n",
    "                all_characters.extend(characters)\n",
    "                ofset += limit\n",
    "\n",
    "                # Mostrar progreso\n",
    "                print(f\"Obtenidos {len(all_characters)} personajes...\")\n",
    "                \n",
    "                # Pausa para respetar los limite de la API\n",
    "                time.sleep(1)\n",
    "        \n",
    "        return all_characters"
   ]
  },
  {
   "cell_type": "code",
   "execution_count": 6,
   "metadata": {},
   "outputs": [],
   "source": [
    "# Funcion convertir datos en un dataframe\n",
    "def characters_to_dataframe(characters):\n",
    "    character_data = []\n",
    "    for character in characters:\n",
    "        character_data.append({\n",
    "            'id': character['id'],\n",
    "            'name': character['name'],\n",
    "            'description': character['description'],\n",
    "            'modified': character['modified'], \n",
    "            'comics_available': character['comics']['available'],\n",
    "            'series_available': character['series']['available'],\n",
    "            'stories_available': character['stories']['available'],\n",
    "            'events_available': character['stories']['available'],\n",
    "            'event_available': character['events']['available'], \n",
    "            'thumbnail': f\"{character['thumbnail']['path']}.{character['thumbnail']['extension']}\"\n",
    "        })\n",
    "    df = pd.DataFrame(character_data)\n",
    "    return df"
   ]
  },
  {
   "cell_type": "code",
   "execution_count": 14,
   "metadata": {},
   "outputs": [
    {
     "name": "stdout",
     "output_type": "stream",
     "text": [
      "Obtenidos 100 personajes...\n",
      "Obtenidos 200 personajes...\n",
      "Obtenidos 300 personajes...\n",
      "Obtenidos 400 personajes...\n",
      "Obtenidos 500 personajes...\n",
      "Obtenidos 600 personajes...\n",
      "Obtenidos 700 personajes...\n",
      "Obtenidos 800 personajes...\n",
      "Obtenidos 900 personajes...\n",
      "Obtenidos 1000 personajes...\n",
      "Obtenidos 1100 personajes...\n",
      "Obtenidos 1200 personajes...\n",
      "Obtenidos 1300 personajes...\n",
      "Obtenidos 1400 personajes...\n",
      "Obtenidos 1500 personajes...\n",
      "Obtenidos 1564 personajes...\n"
     ]
    },
    {
     "data": {
      "text/html": [
       "<div>\n",
       "<style scoped>\n",
       "    .dataframe tbody tr th:only-of-type {\n",
       "        vertical-align: middle;\n",
       "    }\n",
       "\n",
       "    .dataframe tbody tr th {\n",
       "        vertical-align: top;\n",
       "    }\n",
       "\n",
       "    .dataframe thead th {\n",
       "        text-align: right;\n",
       "    }\n",
       "</style>\n",
       "<table border=\"1\" class=\"dataframe\">\n",
       "  <thead>\n",
       "    <tr style=\"text-align: right;\">\n",
       "      <th></th>\n",
       "      <th>id</th>\n",
       "      <th>name</th>\n",
       "      <th>description</th>\n",
       "      <th>modified</th>\n",
       "      <th>comics_available</th>\n",
       "      <th>series_available</th>\n",
       "      <th>stories_available</th>\n",
       "      <th>events_available</th>\n",
       "      <th>event_available</th>\n",
       "      <th>thumbnail</th>\n",
       "    </tr>\n",
       "  </thead>\n",
       "  <tbody>\n",
       "    <tr>\n",
       "      <th>0</th>\n",
       "      <td>1011334</td>\n",
       "      <td>3-D Man</td>\n",
       "      <td></td>\n",
       "      <td>2014-04-29T14:18:17-0400</td>\n",
       "      <td>12</td>\n",
       "      <td>3</td>\n",
       "      <td>21</td>\n",
       "      <td>21</td>\n",
       "      <td>1</td>\n",
       "      <td>http://i.annihil.us/u/prod/marvel/i/mg/c/e0/53...</td>\n",
       "    </tr>\n",
       "    <tr>\n",
       "      <th>1</th>\n",
       "      <td>1017100</td>\n",
       "      <td>A-Bomb (HAS)</td>\n",
       "      <td>Rick Jones has been Hulk's best bud since day ...</td>\n",
       "      <td>2013-09-18T15:54:04-0400</td>\n",
       "      <td>4</td>\n",
       "      <td>2</td>\n",
       "      <td>7</td>\n",
       "      <td>7</td>\n",
       "      <td>0</td>\n",
       "      <td>http://i.annihil.us/u/prod/marvel/i/mg/3/20/52...</td>\n",
       "    </tr>\n",
       "    <tr>\n",
       "      <th>2</th>\n",
       "      <td>1009144</td>\n",
       "      <td>A.I.M.</td>\n",
       "      <td>AIM is a terrorist organization bent on destro...</td>\n",
       "      <td>2013-10-17T14:41:30-0400</td>\n",
       "      <td>53</td>\n",
       "      <td>36</td>\n",
       "      <td>57</td>\n",
       "      <td>57</td>\n",
       "      <td>0</td>\n",
       "      <td>http://i.annihil.us/u/prod/marvel/i/mg/6/20/52...</td>\n",
       "    </tr>\n",
       "    <tr>\n",
       "      <th>3</th>\n",
       "      <td>1010699</td>\n",
       "      <td>Aaron Stack</td>\n",
       "      <td></td>\n",
       "      <td>1969-12-31T19:00:00-0500</td>\n",
       "      <td>14</td>\n",
       "      <td>3</td>\n",
       "      <td>27</td>\n",
       "      <td>27</td>\n",
       "      <td>0</td>\n",
       "      <td>http://i.annihil.us/u/prod/marvel/i/mg/b/40/im...</td>\n",
       "    </tr>\n",
       "    <tr>\n",
       "      <th>4</th>\n",
       "      <td>1009146</td>\n",
       "      <td>Abomination (Emil Blonsky)</td>\n",
       "      <td>Formerly known as Emil Blonsky, a spy of Sovie...</td>\n",
       "      <td>2012-03-20T12:32:12-0400</td>\n",
       "      <td>58</td>\n",
       "      <td>28</td>\n",
       "      <td>68</td>\n",
       "      <td>68</td>\n",
       "      <td>1</td>\n",
       "      <td>http://i.annihil.us/u/prod/marvel/i/mg/9/50/4c...</td>\n",
       "    </tr>\n",
       "  </tbody>\n",
       "</table>\n",
       "</div>"
      ],
      "text/plain": [
       "        id                        name  \\\n",
       "0  1011334                     3-D Man   \n",
       "1  1017100                A-Bomb (HAS)   \n",
       "2  1009144                      A.I.M.   \n",
       "3  1010699                 Aaron Stack   \n",
       "4  1009146  Abomination (Emil Blonsky)   \n",
       "\n",
       "                                         description  \\\n",
       "0                                                      \n",
       "1  Rick Jones has been Hulk's best bud since day ...   \n",
       "2  AIM is a terrorist organization bent on destro...   \n",
       "3                                                      \n",
       "4  Formerly known as Emil Blonsky, a spy of Sovie...   \n",
       "\n",
       "                   modified  comics_available  series_available  \\\n",
       "0  2014-04-29T14:18:17-0400                12                 3   \n",
       "1  2013-09-18T15:54:04-0400                 4                 2   \n",
       "2  2013-10-17T14:41:30-0400                53                36   \n",
       "3  1969-12-31T19:00:00-0500                14                 3   \n",
       "4  2012-03-20T12:32:12-0400                58                28   \n",
       "\n",
       "   stories_available  events_available  event_available  \\\n",
       "0                 21                21                1   \n",
       "1                  7                 7                0   \n",
       "2                 57                57                0   \n",
       "3                 27                27                0   \n",
       "4                 68                68                1   \n",
       "\n",
       "                                           thumbnail  \n",
       "0  http://i.annihil.us/u/prod/marvel/i/mg/c/e0/53...  \n",
       "1  http://i.annihil.us/u/prod/marvel/i/mg/3/20/52...  \n",
       "2  http://i.annihil.us/u/prod/marvel/i/mg/6/20/52...  \n",
       "3  http://i.annihil.us/u/prod/marvel/i/mg/b/40/im...  \n",
       "4  http://i.annihil.us/u/prod/marvel/i/mg/9/50/4c...  "
      ]
     },
     "execution_count": 14,
     "metadata": {},
     "output_type": "execute_result"
    }
   ],
   "source": [
    "# Obtener personajes\n",
    "all_characters = fetch_all_characters()\n",
    "\n",
    "# Covnertir datos en un Dataframe\n",
    "characters_df = characters_to_dataframe(all_characters)\n",
    "characters_df.head()"
   ]
  },
  {
   "cell_type": "code",
   "execution_count": 16,
   "metadata": {},
   "outputs": [],
   "source": [
    "characters_df.to_csv('Marvel_characters.csv', index = False)"
   ]
  },
  {
   "cell_type": "code",
   "execution_count": 17,
   "metadata": {},
   "outputs": [
    {
     "name": "stdout",
     "output_type": "stream",
     "text": [
      "<class 'pandas.core.frame.DataFrame'>\n",
      "RangeIndex: 1564 entries, 0 to 1563\n",
      "Data columns (total 10 columns):\n",
      " #   Column             Non-Null Count  Dtype \n",
      "---  ------             --------------  ----- \n",
      " 0   id                 1564 non-null   int64 \n",
      " 1   name               1564 non-null   object\n",
      " 2   description        1564 non-null   object\n",
      " 3   modified           1564 non-null   object\n",
      " 4   comics_available   1564 non-null   int64 \n",
      " 5   series_available   1564 non-null   int64 \n",
      " 6   stories_available  1564 non-null   int64 \n",
      " 7   events_available   1564 non-null   int64 \n",
      " 8   event_available    1564 non-null   int64 \n",
      " 9   thumbnail          1564 non-null   object\n",
      "dtypes: int64(6), object(4)\n",
      "memory usage: 122.3+ KB\n"
     ]
    }
   ],
   "source": [
    "characters_df.info()"
   ]
  },
  {
   "cell_type": "markdown",
   "metadata": {},
   "source": [
    "# WEB SCRAPING SUPERHEROES AND VILLAINS"
   ]
  },
  {
   "cell_type": "code",
   "execution_count": 2,
   "metadata": {},
   "outputs": [],
   "source": [
    "import lxml\n",
    "import requests\n",
    "import pandas as pd\n",
    "from bs4 import BeautifulSoup"
   ]
  },
  {
   "cell_type": "markdown",
   "metadata": {},
   "source": [
    "ALFRED"
   ]
  },
  {
   "cell_type": "code",
   "execution_count": 35,
   "metadata": {},
   "outputs": [
    {
     "data": {
      "text/plain": [
       "<Response [200]>"
      ]
     },
     "execution_count": 35,
     "metadata": {},
     "output_type": "execute_result"
    }
   ],
   "source": [
    "url = 'https://www.superherodb.com/alfred/10-14275/'\n",
    "response = requests.get(url)\n",
    "response "
   ]
  },
  {
   "cell_type": "code",
   "execution_count": 7,
   "metadata": {},
   "outputs": [
    {
     "data": {
      "text/plain": [
       "<Response [200]>"
      ]
     },
     "execution_count": 7,
     "metadata": {},
     "output_type": "execute_result"
    }
   ],
   "source": [
    "# from fake_useragent import UserAgent                #ya que me niega el acceso, hay que ejecutar este código\n",
    "# ua = UserAgent()\n",
    "# headers = {'User-Agent': ua.random}\n",
    "# response = requests.get(url, headers = headers)\n",
    "# response"
   ]
  },
  {
   "cell_type": "code",
   "execution_count": 36,
   "metadata": {},
   "outputs": [
    {
     "name": "stdout",
     "output_type": "stream",
     "text": [
      "Nombre completo: Alfred Pennyworth\n",
      "Nombre: Alfred\n",
      "Universo: DC Extended Universe\n"
     ]
    }
   ],
   "source": [
    "# Verificar si la solicitud fue exitosa (código de estado 200)\n",
    "if response.status_code == 200:\n",
    "    # Parsear el contenido HTML con BeautifulSoup\n",
    "    soup = BeautifulSoup(response.content, 'html.parser')\n",
    "    \n",
    "    # Encontrar el elemento div con clase 'column col-10 col-md-9 col-sm-12'\n",
    "    div_column = soup.find('div', class_='column col-10 col-md-9 col-sm-12')\n",
    "    \n",
    "    # Extraer el nombre completo del superhéroe (h2 dentro del div encontrado)\n",
    "    nombre_completo = div_column.find('h2').text.strip()\n",
    "    \n",
    "    # Extraer el nombre del superhéroe (primer h1 dentro del div encontrado)\n",
    "    nombre = div_column.find('h1').text.strip()\n",
    "    \n",
    "    # Extraer el universo del superhéroe (primer h3 dentro del div encontrado)\n",
    "    universo = div_column.find('h3').text.strip()\n",
    "    \n",
    "    # Imprimir los resultados\n",
    "    print(f\"Nombre completo: {nombre_completo}\")\n",
    "    print(f\"Nombre: {nombre}\")\n",
    "    print(f\"Universo: {universo}\")\n",
    "\n",
    "else:\n",
    "    print(f\"No se pudo acceder a la página. Código de estado: {response.status_code}\")\n"
   ]
  },
  {
   "cell_type": "code",
   "execution_count": 25,
   "metadata": {},
   "outputs": [
    {
     "name": "stdout",
     "output_type": "stream",
     "text": [
      "Intelligence: 0\n",
      "Strength: 0\n",
      "Speed: 0\n",
      "Durability: 0\n",
      "Power: 0\n",
      "Combat: 0\n",
      "Tier: 0\n",
      "Tier2: 0\n"
     ]
    }
   ],
   "source": [
    "# Verificar si la solicitud fue exitosa (código de estado 200)\n",
    "if response.status_code == 200:\n",
    "    # Parsear el contenido HTML con BeautifulSoup\n",
    "    soup = BeautifulSoup(response.content, 'html.parser')\n",
    "    \n",
    "    # Encontrar el elemento div con clase 'stat-holder stat-rows'\n",
    "    stat_holder = soup.find('div', class_='stat-holder stat-rows')\n",
    "    \n",
    "    if stat_holder:\n",
    "        # Encontrar todos los elementos div con clase 'stat-bar' dentro de 'stat-holder'\n",
    "        stat_bars = stat_holder.find_all('div', class_='stat-bar')\n",
    "        \n",
    "        # Iterar sobre cada stat-bar para extraer los stats y stat-values\n",
    "        for stat_bar in stat_bars:\n",
    "            # Encontrar el stat-value dentro de cada stat-bar\n",
    "            stat_value = stat_bar.find('div', class_='stat-value')\n",
    "            if stat_value:\n",
    "                stat_name = stat_bar.find('label').text.strip()\n",
    "                stat_value_text = stat_value.text.strip()\n",
    "                print(f\"{stat_name}: {stat_value_text}\")\n",
    "            else:\n",
    "                print(\"No se encontró el stat-value dentro de stat-bar\")\n",
    "    else:\n",
    "        print(\"No se encontró el elemento stat-holder stat-rows en la página.\")\n",
    "\n",
    "else:\n",
    "    print(f\"No se pudo acceder a la página. Código de estado: {response.status_code}\")\n"
   ]
  },
  {
   "cell_type": "markdown",
   "metadata": {},
   "source": [
    "AMANDA WALLER "
   ]
  },
  {
   "cell_type": "code",
   "execution_count": 34,
   "metadata": {},
   "outputs": [
    {
     "name": "stdout",
     "output_type": "stream",
     "text": [
      "Nombre completo: Amanda Blake Waller\n",
      "Nombre: Amanda Waller\n",
      "Universo: DC Extended Universe\n",
      "Intelligence: 0\n",
      "Strength: 0\n",
      "Speed: 0\n",
      "Durability: 0\n",
      "Power: 0\n",
      "Combat: 0\n",
      "Tier: 0\n",
      "Tier2: 0\n"
     ]
    }
   ],
   "source": [
    "url = 'https://www.superherodb.com/amanda-waller/10-33322/'\n",
    "response = requests.get(url)\n",
    "response \n",
    "\n",
    "# Verificar si la solicitud fue exitosa (código de estado 200)\n",
    "if response.status_code == 200:\n",
    "    # Parsear el contenido HTML con BeautifulSoup\n",
    "    soup = BeautifulSoup(response.content, 'html.parser')\n",
    "    \n",
    "    # Encontrar el elemento div con clase 'column col-10 col-md-9 col-sm-12'\n",
    "    div_column = soup.find('div', class_='column col-10 col-md-9 col-sm-12')\n",
    "    \n",
    "    # Extraer el nombre completo del superhéroe (h2 dentro del div encontrado)\n",
    "    nombre_completo = div_column.find('h2').text.strip()\n",
    "    \n",
    "    # Extraer el nombre del superhéroe (primer h1 dentro del div encontrado)\n",
    "    nombre = div_column.find('h1').text.strip()\n",
    "    \n",
    "    # Extraer el universo del superhéroe (primer h3 dentro del div encontrado)\n",
    "    universo = div_column.find('h3').text.strip()\n",
    "    \n",
    "    # Imprimir los resultados\n",
    "    print(f\"Nombre completo: {nombre_completo}\")\n",
    "    print(f\"Nombre: {nombre}\")\n",
    "    print(f\"Universo: {universo}\")\n",
    "\n",
    "else:\n",
    "    print(f\"No se pudo acceder a la página. Código de estado: {response.status_code}\")\n",
    "\n",
    "\n",
    "# Verificar si la solicitud fue exitosa (código de estado 200)\n",
    "if response.status_code == 200:\n",
    "    # Parsear el contenido HTML con BeautifulSoup\n",
    "    soup = BeautifulSoup(response.content, 'html.parser')\n",
    "    \n",
    "    # Encontrar el elemento div con clase 'stat-holder stat-rows'\n",
    "    stat_holder = soup.find('div', class_='stat-holder stat-rows')\n",
    "    \n",
    "    if stat_holder:\n",
    "        # Encontrar todos los elementos div con clase 'stat-bar' dentro de 'stat-holder'\n",
    "        stat_bars = stat_holder.find_all('div', class_='stat-bar')\n",
    "        \n",
    "        # Iterar sobre cada stat-bar para extraer los stats y stat-values\n",
    "        for stat_bar in stat_bars:\n",
    "            # Encontrar el stat-value dentro de cada stat-bar\n",
    "            stat_value = stat_bar.find('div', class_='stat-value')\n",
    "            if stat_value:\n",
    "                stat_name = stat_bar.find('label').text.strip()\n",
    "                stat_value_text = stat_value.text.strip()\n",
    "                print(f\"{stat_name}: {stat_value_text}\")\n",
    "            else:\n",
    "                print(\"No se encontró el stat-value dentro de stat-bar\")\n",
    "    else:\n",
    "        print(\"No se encontró el elemento stat-holder stat-rows en la página.\")\n",
    "\n",
    "else:\n",
    "    print(f\"No se pudo acceder a la página. Código de estado: {response.status_code}\")\n"
   ]
  },
  {
   "cell_type": "markdown",
   "metadata": {},
   "source": [
    "# DC EXTENDED UNIVERSE "
   ]
  },
  {
   "cell_type": "code",
   "execution_count": null,
   "metadata": {},
   "outputs": [],
   "source": [
    "# Diccionario \n",
    "dc_extended_universe = {\n",
    "    'Adrianna Tomaz': 'https://www.superherodb.com/alfred/10-14275/#shdb',\n",
    "    'Amanda Waller': 'https://www.superherodb.com/alfred/10-14275/#shdb',\n",
    "    'Anthea': 'https://www.superherodb.com/anthea/10-54768/#user',\n",
    "    'Aquaman': 'https://www.superherodb.com/aquaman/10-12533/',\n",
    "    'Ares': 'https://www.superherodb.com/ares/10-12597/',\n",
    "    'Atom Smasher': 'https://www.superherodb.com/atom-smasher/10-27865/',\n",
    "    'Batman': 'https://www.superherodb.com/batman/10-12530/',\n",
    "    'Black Adam': 'https://www.superherodb.com/black-adam/10-21003/',\n",
    "    'Black Canary': 'https://www.superherodb.com/black-canary/10-18617/',\n",
    "    \n",
    "}"
   ]
  }
 ],
 "metadata": {
  "kernelspec": {
   "display_name": "base",
   "language": "python",
   "name": "python3"
  },
  "language_info": {
   "codemirror_mode": {
    "name": "ipython",
    "version": 3
   },
   "file_extension": ".py",
   "mimetype": "text/x-python",
   "name": "python",
   "nbconvert_exporter": "python",
   "pygments_lexer": "ipython3",
   "version": "3.11.5"
  }
 },
 "nbformat": 4,
 "nbformat_minor": 2
}
