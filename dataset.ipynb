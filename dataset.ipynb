{
 "cells": [
  {
   "cell_type": "markdown",
   "metadata": {},
   "source": [
    "Cargar Data "
   ]
  },
  {
   "cell_type": "code",
   "execution_count": 1,
   "metadata": {},
   "outputs": [],
   "source": [
    "import bootcampviztools as bt\n",
    "import hashlib\n",
    "import itertools\n",
    "\n",
    "import numpy as np\n",
    "import pandas as pd\n",
    "import matplotlib.pyplot as plt\n",
    "import modulo_toolbox as mtb\n",
    "import requests\n",
    "import seaborn as sns\n",
    "import time\n",
    "import toolbox_ML as tb\n",
    "import warnings\n",
    "\n",
    "warnings.filterwarnings('ignore')"
   ]
  },
  {
   "cell_type": "code",
   "execution_count": 2,
   "metadata": {},
   "outputs": [],
   "source": [
    "df_DC = pd.read_csv('./data/heroes_dc_extended')"
   ]
  },
  {
   "cell_type": "code",
   "execution_count": 3,
   "metadata": {},
   "outputs": [
    {
     "name": "stdout",
     "output_type": "stream",
     "text": [
      "<class 'pandas.core.frame.DataFrame'>\n",
      "RangeIndex: 73 entries, 0 to 72\n",
      "Data columns (total 14 columns):\n",
      " #   Column           Non-Null Count  Dtype \n",
      "---  ------           --------------  ----- \n",
      " 0   Unnamed: 0       73 non-null     int64 \n",
      " 1   nombre_completo  61 non-null     object\n",
      " 2   nombre           73 non-null     object\n",
      " 3   universo         73 non-null     object\n",
      " 4   url              73 non-null     object\n",
      " 5   Intelligence     73 non-null     int64 \n",
      " 6   Strength         73 non-null     int64 \n",
      " 7   Speed            73 non-null     int64 \n",
      " 8   Durability       73 non-null     int64 \n",
      " 9   Power            73 non-null     int64 \n",
      " 10  Combat           73 non-null     int64 \n",
      " 11  Tier             73 non-null     int64 \n",
      " 12  Tier2            9 non-null      object\n",
      " 13  heroe            73 non-null     object\n",
      "dtypes: int64(8), object(6)\n",
      "memory usage: 8.1+ KB\n"
     ]
    }
   ],
   "source": [
    "df_DC.info()"
   ]
  },
  {
   "cell_type": "code",
   "execution_count": 4,
   "metadata": {},
   "outputs": [],
   "source": [
    "# Extraer nombres de los héroes\n",
    "heroes = df_DC['heroe'].tolist()"
   ]
  },
  {
   "cell_type": "code",
   "execution_count": 5,
   "metadata": {},
   "outputs": [],
   "source": [
    "# Generar combinaciones ficticias de enfrentamientos\n",
    "enfrentamientos = list(itertools.combinations(heroes, 2))"
   ]
  },
  {
   "cell_type": "code",
   "execution_count": 6,
   "metadata": {},
   "outputs": [],
   "source": [
    "# Crear el dataframe de enfrentamientos\n",
    "enfrentamientos_df = pd.DataFrame(enfrentamientos, columns=['Heroe_1', 'Heroe_2'])\n"
   ]
  },
  {
   "cell_type": "code",
   "execution_count": 7,
   "metadata": {},
   "outputs": [
    {
     "data": {
      "text/plain": [
       "'./data/enfrentamientos_heroes_dc.csv'"
      ]
     },
     "execution_count": 7,
     "metadata": {},
     "output_type": "execute_result"
    }
   ],
   "source": [
    "# Guardar el dataframe de enfrentamientos en un archivo CSV\n",
    "output_file_path = './data/enfrentamientos_heroes_dc.csv'\n",
    "enfrentamientos_df.to_csv(output_file_path, index=False)\n",
    "\n",
    "output_file_path\n"
   ]
  },
  {
   "cell_type": "markdown",
   "metadata": {},
   "source": [
    "BATALLAS Y RESULTADO"
   ]
  },
  {
   "cell_type": "code",
   "execution_count": 8,
   "metadata": {},
   "outputs": [],
   "source": [
    "battle_DC = pd.read_csv('./data/enfrentamientos_heroes_dc.csv')"
   ]
  },
  {
   "cell_type": "code",
   "execution_count": 9,
   "metadata": {},
   "outputs": [
    {
     "data": {
      "text/html": [
       "<div>\n",
       "<style scoped>\n",
       "    .dataframe tbody tr th:only-of-type {\n",
       "        vertical-align: middle;\n",
       "    }\n",
       "\n",
       "    .dataframe tbody tr th {\n",
       "        vertical-align: top;\n",
       "    }\n",
       "\n",
       "    .dataframe thead th {\n",
       "        text-align: right;\n",
       "    }\n",
       "</style>\n",
       "<table border=\"1\" class=\"dataframe\">\n",
       "  <thead>\n",
       "    <tr style=\"text-align: right;\">\n",
       "      <th></th>\n",
       "      <th>Heroe_1</th>\n",
       "      <th>Heroe_2</th>\n",
       "    </tr>\n",
       "  </thead>\n",
       "  <tbody>\n",
       "    <tr>\n",
       "      <th>0</th>\n",
       "      <td>Aquaman</td>\n",
       "      <td>Ares</td>\n",
       "    </tr>\n",
       "    <tr>\n",
       "      <th>1</th>\n",
       "      <td>Aquaman</td>\n",
       "      <td>Atom Smasher</td>\n",
       "    </tr>\n",
       "    <tr>\n",
       "      <th>2</th>\n",
       "      <td>Aquaman</td>\n",
       "      <td>Batman</td>\n",
       "    </tr>\n",
       "    <tr>\n",
       "      <th>3</th>\n",
       "      <td>Aquaman</td>\n",
       "      <td>Black Adam</td>\n",
       "    </tr>\n",
       "    <tr>\n",
       "      <th>4</th>\n",
       "      <td>Aquaman</td>\n",
       "      <td>Black Canary</td>\n",
       "    </tr>\n",
       "    <tr>\n",
       "      <th>...</th>\n",
       "      <td>...</td>\n",
       "      <td>...</td>\n",
       "    </tr>\n",
       "    <tr>\n",
       "      <th>2623</th>\n",
       "      <td>White Dragon</td>\n",
       "      <td>Wrath</td>\n",
       "    </tr>\n",
       "    <tr>\n",
       "      <th>2624</th>\n",
       "      <td>White Dragon</td>\n",
       "      <td>Zeus</td>\n",
       "    </tr>\n",
       "    <tr>\n",
       "      <th>2625</th>\n",
       "      <td>Wonder Woman</td>\n",
       "      <td>Wrath</td>\n",
       "    </tr>\n",
       "    <tr>\n",
       "      <th>2626</th>\n",
       "      <td>Wonder Woman</td>\n",
       "      <td>Zeus</td>\n",
       "    </tr>\n",
       "    <tr>\n",
       "      <th>2627</th>\n",
       "      <td>Wrath</td>\n",
       "      <td>Zeus</td>\n",
       "    </tr>\n",
       "  </tbody>\n",
       "</table>\n",
       "<p>2628 rows × 2 columns</p>\n",
       "</div>"
      ],
      "text/plain": [
       "           Heroe_1       Heroe_2\n",
       "0          Aquaman          Ares\n",
       "1          Aquaman  Atom Smasher\n",
       "2          Aquaman        Batman\n",
       "3          Aquaman    Black Adam\n",
       "4          Aquaman  Black Canary\n",
       "...            ...           ...\n",
       "2623  White Dragon         Wrath\n",
       "2624  White Dragon          Zeus\n",
       "2625  Wonder Woman         Wrath\n",
       "2626  Wonder Woman          Zeus\n",
       "2627         Wrath          Zeus\n",
       "\n",
       "[2628 rows x 2 columns]"
      ]
     },
     "execution_count": 9,
     "metadata": {},
     "output_type": "execute_result"
    }
   ],
   "source": [
    "battle_DC"
   ]
  },
  {
   "cell_type": "code",
   "execution_count": 10,
   "metadata": {},
   "outputs": [],
   "source": [
    "# Función para calcular la puntuación total de un héroe\n",
    "def calcular_puntuacion(heroe, df):\n",
    "    stats = df[df['heroe'] == heroe][['Intelligence', 'Strength', 'Speed', 'Durability', 'Power', 'Combat']].values[0]\n",
    "    return sum(stats)\n",
    "\n",
    "# Crear una nueva columna para los resultados\n",
    "resultados = []\n",
    "\n",
    "for index, row in enfrentamientos_df.iterrows():\n",
    "    heroe_1 = row['Heroe_1']\n",
    "    heroe_2 = row['Heroe_2']\n",
    "    \n",
    "    puntuacion_1 = calcular_puntuacion(heroe_1, df_DC)\n",
    "    puntuacion_2 = calcular_puntuacion(heroe_2, df_DC)\n",
    "    \n",
    "    if puntuacion_1 > puntuacion_2:\n",
    "        resultado = 1\n",
    "    elif puntuacion_1 < puntuacion_2:\n",
    "        resultado = 2\n",
    "    else:\n",
    "        resultado = 0\n",
    "    \n",
    "    resultados.append(resultado)\n",
    "\n",
    "# Añadir la columna de resultados al dataframe de enfrentamientos\n",
    "enfrentamientos_df['Resultado'] = resultados\n",
    "\n",
    "# # Guardar el dataframe actualizado en un archivo CSV\n",
    "# output_file_path_updated = '/mnt/data/enfrentamientos_heroes_dc_con_resultados.csv'\n",
    "# enfrentamientos_df.to_csv(output_file_path_updated, index=False)\n",
    "\n",
    "# output_file_path_updated\n"
   ]
  },
  {
   "cell_type": "code",
   "execution_count": 11,
   "metadata": {},
   "outputs": [
    {
     "data": {
      "text/html": [
       "<div>\n",
       "<style scoped>\n",
       "    .dataframe tbody tr th:only-of-type {\n",
       "        vertical-align: middle;\n",
       "    }\n",
       "\n",
       "    .dataframe tbody tr th {\n",
       "        vertical-align: top;\n",
       "    }\n",
       "\n",
       "    .dataframe thead th {\n",
       "        text-align: right;\n",
       "    }\n",
       "</style>\n",
       "<table border=\"1\" class=\"dataframe\">\n",
       "  <thead>\n",
       "    <tr style=\"text-align: right;\">\n",
       "      <th></th>\n",
       "      <th>Heroe_1</th>\n",
       "      <th>Heroe_2</th>\n",
       "      <th>Resultado</th>\n",
       "    </tr>\n",
       "  </thead>\n",
       "  <tbody>\n",
       "    <tr>\n",
       "      <th>0</th>\n",
       "      <td>Aquaman</td>\n",
       "      <td>Ares</td>\n",
       "      <td>2</td>\n",
       "    </tr>\n",
       "    <tr>\n",
       "      <th>1</th>\n",
       "      <td>Aquaman</td>\n",
       "      <td>Atom Smasher</td>\n",
       "      <td>1</td>\n",
       "    </tr>\n",
       "    <tr>\n",
       "      <th>2</th>\n",
       "      <td>Aquaman</td>\n",
       "      <td>Batman</td>\n",
       "      <td>1</td>\n",
       "    </tr>\n",
       "    <tr>\n",
       "      <th>3</th>\n",
       "      <td>Aquaman</td>\n",
       "      <td>Black Adam</td>\n",
       "      <td>2</td>\n",
       "    </tr>\n",
       "    <tr>\n",
       "      <th>4</th>\n",
       "      <td>Aquaman</td>\n",
       "      <td>Black Canary</td>\n",
       "      <td>1</td>\n",
       "    </tr>\n",
       "    <tr>\n",
       "      <th>...</th>\n",
       "      <td>...</td>\n",
       "      <td>...</td>\n",
       "      <td>...</td>\n",
       "    </tr>\n",
       "    <tr>\n",
       "      <th>2623</th>\n",
       "      <td>White Dragon</td>\n",
       "      <td>Wrath</td>\n",
       "      <td>2</td>\n",
       "    </tr>\n",
       "    <tr>\n",
       "      <th>2624</th>\n",
       "      <td>White Dragon</td>\n",
       "      <td>Zeus</td>\n",
       "      <td>2</td>\n",
       "    </tr>\n",
       "    <tr>\n",
       "      <th>2625</th>\n",
       "      <td>Wonder Woman</td>\n",
       "      <td>Wrath</td>\n",
       "      <td>1</td>\n",
       "    </tr>\n",
       "    <tr>\n",
       "      <th>2626</th>\n",
       "      <td>Wonder Woman</td>\n",
       "      <td>Zeus</td>\n",
       "      <td>1</td>\n",
       "    </tr>\n",
       "    <tr>\n",
       "      <th>2627</th>\n",
       "      <td>Wrath</td>\n",
       "      <td>Zeus</td>\n",
       "      <td>2</td>\n",
       "    </tr>\n",
       "  </tbody>\n",
       "</table>\n",
       "<p>2628 rows × 3 columns</p>\n",
       "</div>"
      ],
      "text/plain": [
       "           Heroe_1       Heroe_2  Resultado\n",
       "0          Aquaman          Ares          2\n",
       "1          Aquaman  Atom Smasher          1\n",
       "2          Aquaman        Batman          1\n",
       "3          Aquaman    Black Adam          2\n",
       "4          Aquaman  Black Canary          1\n",
       "...            ...           ...        ...\n",
       "2623  White Dragon         Wrath          2\n",
       "2624  White Dragon          Zeus          2\n",
       "2625  Wonder Woman         Wrath          1\n",
       "2626  Wonder Woman          Zeus          1\n",
       "2627         Wrath          Zeus          2\n",
       "\n",
       "[2628 rows x 3 columns]"
      ]
     },
     "execution_count": 11,
     "metadata": {},
     "output_type": "execute_result"
    }
   ],
   "source": [
    "enfrentamientos_df"
   ]
  },
  {
   "cell_type": "code",
   "execution_count": 12,
   "metadata": {},
   "outputs": [],
   "source": [
    "\n",
    "batallas_resultados = pd.read_csv('./data/enfrentamientos_heroes_dc_con_resultados_narrativos.csv')"
   ]
  },
  {
   "cell_type": "code",
   "execution_count": 13,
   "metadata": {},
   "outputs": [
    {
     "data": {
      "text/html": [
       "<div>\n",
       "<style scoped>\n",
       "    .dataframe tbody tr th:only-of-type {\n",
       "        vertical-align: middle;\n",
       "    }\n",
       "\n",
       "    .dataframe tbody tr th {\n",
       "        vertical-align: top;\n",
       "    }\n",
       "\n",
       "    .dataframe thead th {\n",
       "        text-align: right;\n",
       "    }\n",
       "</style>\n",
       "<table border=\"1\" class=\"dataframe\">\n",
       "  <thead>\n",
       "    <tr style=\"text-align: right;\">\n",
       "      <th></th>\n",
       "      <th>Heroe_1</th>\n",
       "      <th>Heroe_2</th>\n",
       "      <th>Resultado_x</th>\n",
       "      <th>Resultado_y</th>\n",
       "      <th>Resultado</th>\n",
       "    </tr>\n",
       "  </thead>\n",
       "  <tbody>\n",
       "    <tr>\n",
       "      <th>0</th>\n",
       "      <td>Aquaman</td>\n",
       "      <td>Ares</td>\n",
       "      <td>2</td>\n",
       "      <td>2.0</td>\n",
       "      <td>2.0</td>\n",
       "    </tr>\n",
       "    <tr>\n",
       "      <th>1</th>\n",
       "      <td>Aquaman</td>\n",
       "      <td>Atom Smasher</td>\n",
       "      <td>1</td>\n",
       "      <td>1.0</td>\n",
       "      <td>1.0</td>\n",
       "    </tr>\n",
       "    <tr>\n",
       "      <th>2</th>\n",
       "      <td>Aquaman</td>\n",
       "      <td>Batman</td>\n",
       "      <td>1</td>\n",
       "      <td>1.0</td>\n",
       "      <td>2.0</td>\n",
       "    </tr>\n",
       "    <tr>\n",
       "      <th>3</th>\n",
       "      <td>Aquaman</td>\n",
       "      <td>Black Adam</td>\n",
       "      <td>2</td>\n",
       "      <td>2.0</td>\n",
       "      <td>2.0</td>\n",
       "    </tr>\n",
       "    <tr>\n",
       "      <th>4</th>\n",
       "      <td>Aquaman</td>\n",
       "      <td>Black Canary</td>\n",
       "      <td>1</td>\n",
       "      <td>1.0</td>\n",
       "      <td>1.0</td>\n",
       "    </tr>\n",
       "  </tbody>\n",
       "</table>\n",
       "</div>"
      ],
      "text/plain": [
       "   Heroe_1       Heroe_2  Resultado_x  Resultado_y  Resultado\n",
       "0  Aquaman          Ares            2          2.0        2.0\n",
       "1  Aquaman  Atom Smasher            1          1.0        1.0\n",
       "2  Aquaman        Batman            1          1.0        2.0\n",
       "3  Aquaman    Black Adam            2          2.0        2.0\n",
       "4  Aquaman  Black Canary            1          1.0        1.0"
      ]
     },
     "execution_count": 13,
     "metadata": {},
     "output_type": "execute_result"
    }
   ],
   "source": [
    "batallas_resultados.head()"
   ]
  },
  {
   "cell_type": "code",
   "execution_count": 14,
   "metadata": {},
   "outputs": [
    {
     "name": "stdout",
     "output_type": "stream",
     "text": [
      "<class 'pandas.core.frame.DataFrame'>\n",
      "RangeIndex: 2628 entries, 0 to 2627\n",
      "Data columns (total 5 columns):\n",
      " #   Column       Non-Null Count  Dtype  \n",
      "---  ------       --------------  -----  \n",
      " 0   Heroe_1      2628 non-null   object \n",
      " 1   Heroe_2      2628 non-null   object \n",
      " 2   Resultado_x  2628 non-null   int64  \n",
      " 3   Resultado_y  5 non-null      float64\n",
      " 4   Resultado    5 non-null      float64\n",
      "dtypes: float64(2), int64(1), object(2)\n",
      "memory usage: 102.8+ KB\n"
     ]
    }
   ],
   "source": [
    "batallas_resultados.info()"
   ]
  },
  {
   "cell_type": "markdown",
   "metadata": {},
   "source": [
    "BATALLAS DC COMPLETO"
   ]
  },
  {
   "cell_type": "code",
   "execution_count": null,
   "metadata": {},
   "outputs": [],
   "source": []
  }
 ],
 "metadata": {
  "kernelspec": {
   "display_name": "base",
   "language": "python",
   "name": "python3"
  },
  "language_info": {
   "codemirror_mode": {
    "name": "ipython",
    "version": 3
   },
   "file_extension": ".py",
   "mimetype": "text/x-python",
   "name": "python",
   "nbconvert_exporter": "python",
   "pygments_lexer": "ipython3",
   "version": "3.11.5"
  }
 },
 "nbformat": 4,
 "nbformat_minor": 2
}
