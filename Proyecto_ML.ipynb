{
 "cells": [
  {
   "cell_type": "markdown",
   "metadata": {},
   "source": [
    "<div style=\"position: relative; text-align: center; color: white; height: 400px; width: 100%;\">\n",
    "  <img src=\"images/portada_ML.webp\" alt=\"Logo del Proyecto\" style=\"width: 100%; height: 100%; object-fit: cover; opacity: 0.7;\">\n",
    "  <div style=\"position: absolute; top: 50%; left: 50%; transform: translate(-50%, -50%); width: 80%;\">\n",
    "    <h1 style=\"font-size: 2.5em; background-color: rgba(0, 0, 0, 0.5); padding: 10px;\">\n",
    "      Simulador de Batallas de Superhéroes\n",
    "    </h1>\n",
    "    <h2 style=\"font-size: 1.5em; background-color: rgba(0, 0, 0, 0.5); padding: 5px;\">\n",
    "      Un Enfoque Basado en Machine Learning para Predecir Resultados en el Universo de Cómics y Películas\n",
    "    </h2>\n",
    "  </div>\n",
    "</div>\n"
   ]
  },
  {
   "cell_type": "markdown",
   "metadata": {},
   "source": [
    "Bibliotecas "
   ]
  },
  {
   "cell_type": "code",
   "execution_count": 1,
   "metadata": {},
   "outputs": [],
   "source": [
    "import numpy as np"
   ]
  },
  {
   "cell_type": "code",
   "execution_count": null,
   "metadata": {},
   "outputs": [],
   "source": []
  },
  {
   "cell_type": "markdown",
   "metadata": {},
   "source": []
  },
  {
   "cell_type": "markdown",
   "metadata": {},
   "source": []
  }
 ],
 "metadata": {
  "kernelspec": {
   "display_name": "base",
   "language": "python",
   "name": "python3"
  },
  "language_info": {
   "codemirror_mode": {
    "name": "ipython",
    "version": 3
   },
   "file_extension": ".py",
   "mimetype": "text/x-python",
   "name": "python",
   "nbconvert_exporter": "python",
   "pygments_lexer": "ipython3",
   "version": "3.11.5"
  }
 },
 "nbformat": 4,
 "nbformat_minor": 2
}
